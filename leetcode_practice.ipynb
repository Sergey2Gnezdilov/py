{
  "nbformat": 4,
  "nbformat_minor": 0,
  "metadata": {
    "colab": {
      "provenance": [],
      "authorship_tag": "ABX9TyNhQj9IgLltrEbkIc8yv5rX",
      "include_colab_link": true
    },
    "kernelspec": {
      "name": "python3",
      "display_name": "Python 3"
    },
    "language_info": {
      "name": "python"
    }
  },
  "cells": [
    {
      "cell_type": "markdown",
      "metadata": {
        "id": "view-in-github",
        "colab_type": "text"
      },
      "source": [
        "<a href=\"https://colab.research.google.com/github/Sergey2Gnezdilov/py/blob/main/leetcode_practice.ipynb\" target=\"_parent\"><img src=\"https://colab.research.google.com/assets/colab-badge.svg\" alt=\"Open In Colab\"/></a>"
      ]
    },
    {
      "cell_type": "code",
      "execution_count": null,
      "metadata": {
        "colab": {
          "base_uri": "https://localhost:8080/"
        },
        "id": "Mh30x6Qr5KJW",
        "outputId": "dc7e48b4-0523-4c62-9951-7584c220fca1"
      },
      "outputs": [
        {
          "output_type": "stream",
          "name": "stdout",
          "text": [
            "prefix_sum:  1\n",
            "fff  2\n",
            "prefix_sum:  1\n",
            "fff  3\n",
            "prefix_sum:  2\n",
            "2 2\n",
            "count_0 0\n",
            "count 1\n",
            "fff  2\n",
            "prefix_sum:  2\n",
            "2 2\n",
            "count_0 1\n",
            "count 1\n",
            "fff  3\n",
            "prefix_sum:  3\n",
            "3 2\n",
            "count_0 2\n",
            "count 2\n",
            "fff  2\n",
            "4\n"
          ]
        }
      ],
      "source": [
        "def numSubarraysWithSum(nums, goal):\n",
        "    count = 0\n",
        "    prefix_sum = 0\n",
        "    prefix_sum_freq = {0: 1}\n",
        "\n",
        "    for num in nums:\n",
        "        prefix_sum += num\n",
        "        print (\"prefix_sum: \", prefix_sum )\n",
        "        if prefix_sum - goal in prefix_sum_freq:\n",
        "            print(prefix_sum, goal)\n",
        "            print(\"count_0\", count)\n",
        "            print(\"count\", prefix_sum_freq[prefix_sum - goal])\n",
        "            count += prefix_sum_freq[prefix_sum - goal]\n",
        "        prefix_sum_freq[prefix_sum] = prefix_sum_freq.get(prefix_sum, 0) + 1\n",
        "        print (\"fff \" , prefix_sum_freq.get(prefix_sum, 0) + 1)\n",
        "    return count\n",
        "\n",
        "# Example usage:\n",
        "nums = [1, 0, 1, 0, 1]\n",
        "goal = 2\n",
        "print(numSubarraysWithSum(nums, goal))  # Output: 4"
      ]
    },
    {
      "cell_type": "code",
      "source": [
        "nums = [5,6,2,7,4]\n",
        "max1 = max(nums)\n",
        "nums.remove(max1)\n",
        "max2 = max(nums)\n",
        "min1 = min(nums)\n",
        "nums.remove(min1)\n",
        "min2 = min(nums)\n",
        "print ((max1*max2)-(min1*min2))"
      ],
      "metadata": {
        "colab": {
          "base_uri": "https://localhost:8080/"
        },
        "id": "f7rL_6M_n6E-",
        "outputId": "38d7ee17-5d44-4039-c353-057b9893462b"
      },
      "execution_count": null,
      "outputs": [
        {
          "output_type": "stream",
          "name": "stdout",
          "text": [
            "34\n"
          ]
        }
      ]
    },
    {
      "cell_type": "code",
      "source": [
        "#grid = [[1,2,3,4],[5,6,7,8],[9,10,11,12],[13,14,15,16]]\n",
        "#grid = [[1,2,3,4,5,6],[7,8,9,10,11,12],[13,14,15,16,17,18],[19,20,21,22,23,24],[25,26,27,28,29,30],[31,32,33,34,35,36]]\n",
        "#grid = [[1,2,3],[11,22,33],[21,22,23],[31,32,33]]\n",
        "grid = [[3970,1906,3608,298,3072,3546,1502,773,4388,3115,747,3937],[2822,304,4179,1780,1709,1058,3645,681,2910,2513,4357,1038],[4471,2443,218,550,2766,4780,1997,1672,4095,161,4645,3838],[2035,2350,3653,4127,3208,4717,4347,3452,1601,3725,3060,2270],[188,2278,81,3454,3204,1897,2862,4381,3704,2587,743,3832],[996,4499,66,2742,1761,1189,608,509,2344,3271,3076,108],[3274,2042,2157,3226,2938,3766,2610,4510,219,1276,3712,4143],[744,234,2159,4478,4161,4549,4214,4272,701,4376,3110,4896],[4431,1011,757,2690,83,3546,946,1122,2216,3944,2715,2842],[898,4087,703,4153,3297,2968,3268,4717,1922,2527,3139,1516],[1086,1090,302,1273,2292,234,3268,2284,4203,3838,2227,3651],[2055,4406,2278,3351,3217,2506,4525,233,3829,63,4470,3170],[3797,3276,1755,1727,1131,4108,3633,1835,1345,1293,2778,2805],[1215,84,282,2721,2360,2321,1435,2617,1202,2876,3420,3034]]\n",
        "#grid =[[188,2035,4471,2822,3970,1906,3608,298,3072,3546,1502,773],[996,1058,3645,681,2910,2513,4357,4645,3060,743,3076,4388],[3274,1709,4376,3944,2527,3838,63,3829,233,4525,3712,3115],[744,1780,1276,4478,3226,2742,3454,4127,3208,2506,3110,747],[4431,4179,3271,2690,83,4161,2938,1761,4717,3217,2715,3937],[898,304,2587,4153,3297,946,3546,3204,4347,3351,3139,1038],[1086,2443,3725,1273,2968,4214,4549,1897,3452,2278,2227,3838],[2055,2350,161,2292,3268,2610,3766,2862,1601,302,4470,2270],[3797,2278,4095,234,4717,608,1189,4381,3704,703,2778,3832],[1215,4499,1672,3268,1122,4272,4510,509,2344,757,1293,108],[84,2042,1997,2284,4203,1922,2216,701,219,2159,1345,4143],[282,234,4780,2766,550,218,3653,81,66,2157,1835,4896],[2721,1011,4087,1090,4406,3276,1755,1727,1131,4108,3633,2842],[2360,2321,1435,2617,1202,2876,3420,3034,2805,3170,3651,1516]]\n",
        "\n",
        "k = 405548684\n",
        "#print(grid)\n",
        "#Height Width\n",
        "height,width = len(grid),len(grid[-1])\n",
        "loops = min(height // 2, width // 2)\n",
        "#print(height, width, loops)\n",
        "snakes=[] # 1 demension for snake, and second for each loop\n",
        "tmp_h0, tmp_w0 = 0, 0\n",
        "tmp_h1, tmp_w1 = height-1, width-1\n",
        "for nloop in range(0,loops):\n",
        "  snake=[]\n",
        "  ##print (\"nloop\",nloop)\n",
        "  #print (tmp_h1,tmp_w1)\n",
        "  #print (tmp_h0, tmp_w0)\n",
        "  #head\n",
        "  for h in reversed(range(tmp_w0,tmp_w1+1)):\n",
        "    #print(\"h\",h)\n",
        "    snake.append(grid[tmp_h0][h])\n",
        "    #print(snake)\n",
        "  #add neck to snake\n",
        "  for n in range(tmp_h0+1,tmp_h1):\n",
        "    #print(\"n\",n)\n",
        "    snake.append(grid[n][nloop])\n",
        "    #print(snake)\n",
        "  # add body/ass\n",
        "  for b in range(tmp_w0,tmp_w1+1):\n",
        "    #print(\"b\",b)\n",
        "    snake.append(grid[tmp_h1][b])\n",
        "    #print(snake)\n",
        "  #add tail to snake\n",
        "  for t in reversed(range(tmp_h0+1,tmp_h1)):\n",
        "    #print (\"t\",t)\n",
        "    snake.append(grid[t][tmp_w1])\n",
        "    #print(snake)\n",
        "  print('+++++++++')\n",
        "  print (\"befor slicing\",snake)\n",
        "  print('+++++++++')\n",
        "  #let's shift on \"k\" to right, using slicing\n",
        "  #snake = snake[-k:] + snake[:-k]\n",
        "  effective_rotation = k % len(snake)\n",
        "  print(effective_rotation)\n",
        "\n",
        "# Rotate the snake\n",
        "  snake = snake[-effective_rotation:] + snake[:-effective_rotation]\n",
        "\n",
        "  print ('slicing0', snake)\n",
        "  curs_snake=len(snake)-1\n",
        "  #add each \"snake\" to original array \"grid\"\n",
        "\n",
        "  #start from tail\n",
        "  for t in range(tmp_h0+1,tmp_h1):\n",
        "    #print(tmp_h0,tmp_h1)\n",
        "    grid[t][tmp_w1] = snake[curs_snake]\n",
        "    curs_snake -= 1\n",
        "\n",
        "  #update body/ass\n",
        "  for b in reversed(range(tmp_w0,tmp_w1+1)):\n",
        "    grid[tmp_h1][b] = snake[curs_snake]\n",
        "    curs_snake -= 1\n",
        " # neck\n",
        "  for n in reversed(range(tmp_h0+1,tmp_h1)):\n",
        "    grid[n][tmp_w0] = snake[curs_snake]\n",
        "    curs_snake -= 1\n",
        "\n",
        "  #upd \"head\" in grid\n",
        "  for t in range(tmp_w0,tmp_w1+1):\n",
        "    grid[tmp_h0][t]= snake[curs_snake]\n",
        "    #print('head rev0', snake[curs_snake])\n",
        "    curs_snake -= 1\n",
        "\n",
        "  tmp_h0 += 1\n",
        "  tmp_w0 += 1\n",
        "  tmp_h1 -= 1\n",
        "  tmp_w1 -= 1\n",
        "  snakes.append(snake)\n",
        "#print('+++++++++')\n",
        "#print(snakes)\n",
        "#print('+++++++++')\n",
        "#print(grid)\n",
        "out=[[188,2035,4471,2822,3970,1906,3608,298,3072,3546,1502,773],[996,1058,3645,681,2910,2513,4357,4645,3060,743,3076,4388],[3274,1709,4376,3944,2527,3838,63,3829,233,4525,3712,3115],[744,1780,1276,4478,3226,2742,3454,4127,3208,2506,3110,747],[4431,4179,3271,2690,83,4161,2938,1761,4717,3217,2715,3937],[898,304,2587,4153,3297,946,3546,3204,4347,3351,3139,1038],[1086,2443,3725,1273,2968,4214,4549,1897,3452,2278,2227,3838],[2055,2350,161,2292,3268,2610,3766,2862,1601,302,4470,2270],[3797,2278,4095,234,4717,608,1189,4381,3704,703,2778,3832],[1215,4499,1672,3268,1122,4272,4510,509,2344,757,1293,108],[84,2042,1997,2284,4203,1922,2216,701,219,2159,1345,4143],[282,234,4780,2766,550,218,3653,81,66,2157,1835,4896],[2721,1011,4087,1090,4406,3276,1755,1727,1131,4108,3633,2842],[2360,2321,1435,2617,1202,2876,3420,3034,2805,3170,3651,1516]]\n",
        "#print('+++++++++')\n",
        "#print(out)\n",
        "print (out==grid)\n",
        "\n",
        "#befor slicing [608, 1189, 3766, 4549, 3546, 946, 4214, 2610]\n",
        "#+++++++++\n",
        "#slicing0 [608, 1189, 3766, 4549, 3546, 946, 4214, 2610]\n",
        "\n",
        "#befor slicing [3546, 946, 4214, 2610, 608, 1189, 3766, 4549]\n",
        "\n",
        "#slicing0      [3546, 946, 4214, 2610, 608, 1189, 3766, 4549]"
      ],
      "metadata": {
        "colab": {
          "base_uri": "https://localhost:8080/"
        },
        "id": "gx80DL4lv5jS",
        "outputId": "f351118b-6cfe-4f4c-86ec-94d3c99d30c9"
      },
      "execution_count": null,
      "outputs": [
        {
          "output_type": "stream",
          "name": "stdout",
          "text": [
            "+++++++++\n",
            "befor slicing [3937, 747, 3115, 4388, 773, 1502, 3546, 3072, 298, 3608, 1906, 3970, 2822, 4471, 2035, 188, 996, 3274, 744, 4431, 898, 1086, 2055, 3797, 1215, 84, 282, 2721, 2360, 2321, 1435, 2617, 1202, 2876, 3420, 3034, 2805, 3170, 3651, 1516, 2842, 4896, 4143, 108, 3832, 2270, 3838, 1038]\n",
            "+++++++++\n",
            "44\n",
            "slicing0 [773, 1502, 3546, 3072, 298, 3608, 1906, 3970, 2822, 4471, 2035, 188, 996, 3274, 744, 4431, 898, 1086, 2055, 3797, 1215, 84, 282, 2721, 2360, 2321, 1435, 2617, 1202, 2876, 3420, 3034, 2805, 3170, 3651, 1516, 2842, 4896, 4143, 108, 3832, 2270, 3838, 1038, 3937, 747, 3115, 4388]\n",
            "+++++++++\n",
            "befor slicing [4357, 2513, 2910, 681, 3645, 1058, 1709, 1780, 4179, 304, 2443, 2350, 2278, 4499, 2042, 234, 1011, 4087, 1090, 4406, 3276, 1755, 1727, 1131, 4108, 3633, 1835, 1345, 1293, 2778, 4470, 2227, 3139, 2715, 3110, 3712, 3076, 743, 3060, 4645]\n",
            "+++++++++\n",
            "4\n",
            "slicing0 [3076, 743, 3060, 4645, 4357, 2513, 2910, 681, 3645, 1058, 1709, 1780, 4179, 304, 2443, 2350, 2278, 4499, 2042, 234, 1011, 4087, 1090, 4406, 3276, 1755, 1727, 1131, 4108, 3633, 1835, 1345, 1293, 2778, 4470, 2227, 3139, 2715, 3110, 3712]\n",
            "+++++++++\n",
            "befor slicing [161, 4095, 1672, 1997, 4780, 2766, 550, 218, 3653, 81, 66, 2157, 2159, 757, 703, 302, 2278, 3351, 3217, 2506, 4525, 233, 3829, 63, 3838, 2527, 3944, 4376, 1276, 3271, 2587, 3725]\n",
            "+++++++++\n",
            "12\n",
            "slicing0 [4525, 233, 3829, 63, 3838, 2527, 3944, 4376, 1276, 3271, 2587, 3725, 161, 4095, 1672, 1997, 4780, 2766, 550, 218, 3653, 81, 66, 2157, 2159, 757, 703, 302, 2278, 3351, 3217, 2506]\n",
            "+++++++++\n",
            "befor slicing [1601, 3452, 4347, 4717, 3208, 4127, 3454, 2742, 3226, 4478, 2690, 4153, 1273, 2292, 234, 3268, 2284, 4203, 1922, 2216, 701, 219, 2344, 3704]\n",
            "+++++++++\n",
            "20\n",
            "slicing0 [3208, 4127, 3454, 2742, 3226, 4478, 2690, 4153, 1273, 2292, 234, 3268, 2284, 4203, 1922, 2216, 701, 219, 2344, 3704, 1601, 3452, 4347, 4717]\n",
            "+++++++++\n",
            "befor slicing [4381, 2862, 1897, 3204, 1761, 2938, 4161, 83, 3297, 2968, 3268, 4717, 1122, 4272, 4510, 509]\n",
            "+++++++++\n",
            "12\n",
            "slicing0 [1761, 2938, 4161, 83, 3297, 2968, 3268, 4717, 1122, 4272, 4510, 509, 4381, 2862, 1897, 3204]\n",
            "+++++++++\n",
            "befor slicing [608, 1189, 3766, 4549, 3546, 946, 4214, 2610]\n",
            "+++++++++\n",
            "4\n",
            "slicing0 [3546, 946, 4214, 2610, 608, 1189, 3766, 4549]\n",
            "True\n"
          ]
        }
      ]
    },
    {
      "cell_type": "code",
      "source": [
        "grid = [[1,2,3,4],[5,6,7,8],[9,10,11,12],[13,14,15,16]]\n",
        "k = 2\n",
        "#Height width\n",
        "height,width = len(grid),len(grid[-1])\n",
        "loops = min(height // 2, width // 2)\n",
        "tmp_h0, tmp_w0 = 0, 0\n",
        "tmp_h1, tmp_w1 = height-1, width-1\n",
        "for nloop in range(0,loops):\n",
        "  snake=[]\n",
        "  #add head snake\n",
        "  for h in reversed(range(tmp_w0,tmp_w1+1)): snake.append(grid[tmp_h0][h])\n",
        "  #add neck snake\n",
        "  for n in range(tmp_h0+1,tmp_h1): snake.append(grid[n][nloop])\n",
        "  #add body\n",
        "  for b in range(tmp_w0,tmp_w1+1): snake.append(grid[tmp_h1][b])\n",
        "  #add tail to snake\n",
        "  for t in reversed(range(tmp_h0+1,tmp_h1)): snake.append(grid[t][tmp_w1])\n",
        "  #let's shift on \"k\" to right, using slicing\n",
        "  snake = snake[-k:] + snake[:-k]\n",
        "  curs_snake=len(snake)-1\n",
        "  #add each \"snake\" to original array \"grid\"\n",
        "  #start from tail\n",
        "  for t in range(tmp_w0+1,tmp_w1):\n",
        "    grid[t][tmp_w1] = snake[curs_snake]\n",
        "    curs_snake -= 1\n",
        "  #update body/ass\n",
        "  for b in reversed(range(tmp_w0,tmp_w1+1)):\n",
        "    grid[tmp_h1][b] = snake[curs_snake]\n",
        "    curs_snake -= 1\n",
        "  for n in reversed(range(tmp_h0+1,tmp_h1)):\n",
        "    grid[n][nloop] = snake[curs_snake]\n",
        "    curs_snake -= 1\n",
        "  #upd \"head\" in grid\n",
        "  for t in range(tmp_w0,tmp_w1+1):\n",
        "    grid[tmp_h0][t]= snake[curs_snake]\n",
        "    curs_snake -= 1\n",
        "  #iterate demension for next layer\n",
        "  tmp_h0 += 1\n",
        "  tmp_w0 += 1\n",
        "  tmp_h1 -= 1\n",
        "  tmp_w1 -= 1\n",
        "  snakes.append(snake)\n",
        "\n",
        "print(grid)\n"
      ],
      "metadata": {
        "colab": {
          "base_uri": "https://localhost:8080/"
        },
        "id": "qP7ZzuimVV5I",
        "outputId": "5bd53338-e1d1-4197-9d4c-ef369064058e"
      },
      "execution_count": null,
      "outputs": [
        {
          "output_type": "stream",
          "name": "stdout",
          "text": [
            "[[3, 4, 8, 12], [2, 11, 10, 16], [1, 7, 6, 15], [5, 9, 13, 14]]\n"
          ]
        }
      ]
    },
    {
      "cell_type": "code",
      "source": [
        "snake = [3546, 946, 4214, 2610, 608, 1189, 3766, 4549]\n",
        "k = 405548684  # Rotation amount\n",
        "print (k/4)\n",
        "# Calculate the effective rotation amount within the range of the snake's length\n",
        "effective_rotation = k % len(snake)\n",
        "print(effective_rotation)\n",
        "\n",
        "# Rotate the snake\n",
        "snake = snake[-effective_rotation:] + snake[:-effective_rotation]\n",
        "\n",
        "print(snake)"
      ],
      "metadata": {
        "colab": {
          "base_uri": "https://localhost:8080/"
        },
        "id": "zz_HVXFpEvn2",
        "outputId": "017a8d35-b085-4b59-c76c-37add4484017"
      },
      "execution_count": null,
      "outputs": [
        {
          "output_type": "stream",
          "name": "stdout",
          "text": [
            "101387171.0\n",
            "4\n",
            "[608, 1189, 3766, 4549, 3546, 946, 4214, 2610]\n"
          ]
        }
      ]
    },
    {
      "cell_type": "code",
      "source": [],
      "metadata": {
        "id": "rlNEtl5jiu12"
      },
      "execution_count": null,
      "outputs": []
    }
  ]
}