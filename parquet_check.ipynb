{
 "cells": [
  {
   "cell_type": "code",
   "execution_count": 15,
   "metadata": {},
   "outputs": [],
   "source": [
    "from io import BytesIO\n",
    "import pandas as pd\n",
    "import pyarrow.parquet as pq\n",
    "data = {'f_int': [1, 2, -3], \n",
    "        'f_float': [-4.4, 5.4, -6.4], \n",
    "        'f_none': [None, None, None],\n",
    "        'Empty': ['', '', ''],\n",
    "          'f2_str': ['v', 'x', 'z'],\n",
    "          'f2_bool': [True, True, False],}"
   ]
  },
  {
   "cell_type": "code",
   "execution_count": 16,
   "metadata": {},
   "outputs": [
    {
     "name": "stdout",
     "output_type": "stream",
     "text": [
      "f_int        int64\n",
      "f_float    float64\n",
      "f_none      object\n",
      "Empty       object\n",
      "f2_str      object\n",
      "f2_bool       bool\n",
      "dtype: object\n",
      "Schema of the Parquet file: \n",
      "<pyarrow._parquet.ParquetSchema object at 0x780fb9ffd5c0>\n",
      "required group field_id=-1 schema {\n",
      "  optional int64 field_id=-1 f_int;\n",
      "  optional double field_id=-1 f_float;\n",
      "  optional int32 field_id=-1 f_none (Null);\n",
      "  optional binary field_id=-1 Empty (String);\n",
      "  optional binary field_id=-1 f2_str (String);\n",
      "  optional boolean field_id=-1 f2_bool;\n",
      "}\n",
      "\n"
     ]
    }
   ],
   "source": [
    "buffer_pandas = BytesIO()\n",
    "df = pd.DataFrame(data)\n",
    "print(df.dtypes)\n",
    "pd.DataFrame(data).to_parquet(buffer_pandas, compression=\"zstd\")\n",
    "parquet_file = pq.ParquetFile(buffer_pandas)\n",
    "schema = parquet_file.schema\n",
    "\n",
    "print(\"Schema of the Parquet file: \")\n",
    "print(schema)\n"
   ]
  },
  {
   "cell_type": "code",
   "execution_count": 10,
   "metadata": {},
   "outputs": [
    {
     "name": "stdout",
     "output_type": "stream",
     "text": [
      "Schema of the Parquet file:\n",
      "<pyarrow._parquet.ParquetSchema object at 0x780fb9fee180>\n",
      "required group field_id=-1 schema {\n",
      "  optional int64 field_id=-1 f_int;\n",
      "  optional double field_id=-1 f_float;\n",
      "  optional int32 field_id=-1 f_none (Null);\n",
      "  optional binary field_id=-1 f2_str (String);\n",
      "  optional boolean field_id=-1 f2_bool;\n",
      "}\n",
      "\n"
     ]
    }
   ],
   "source": [
    "import pyarrow as pa\n",
    "\n",
    "table = pa.Table.from_pydict(data)\n",
    "\n",
    "buffer_pa = BytesIO()\n",
    "pq.write_table(table, buffer_pa, compression=\"zstd\")\n",
    "\n",
    "# Reset the buffer position to the beginning for reading\n",
    "buffer.seek(0)\n",
    "\n",
    "# Read the Parquet file back into a PyArrow Table\n",
    "parquet_file = pq.ParquetFile(buffer)\n",
    "schema = parquet_file.schema\n",
    "\n",
    "# Output the schema of the Parquet file\n",
    "print(\"Schema of the Parquet file:\")\n",
    "print(schema)"
   ]
  },
  {
   "cell_type": "code",
   "execution_count": null,
   "metadata": {},
   "outputs": [],
   "source": [
    "polars.DataFrame.schema"
   ]
  }
 ],
 "metadata": {
  "kernelspec": {
   "display_name": "Python 3 (ipykernel)",
   "language": "python",
   "name": "python3"
  },
  "language_info": {
   "codemirror_mode": {
    "name": "ipython",
    "version": 3
   },
   "file_extension": ".py",
   "mimetype": "text/x-python",
   "name": "python",
   "nbconvert_exporter": "python",
   "pygments_lexer": "ipython3",
   "version": "3.10.12"
  }
 },
 "nbformat": 4,
 "nbformat_minor": 4
}
